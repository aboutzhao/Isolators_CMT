{
 "cells": [
  {
   "cell_type": "code",
   "execution_count": 1,
   "metadata": {},
   "outputs": [],
   "source": [
    "import numpy as np\n",
    "import matplotlib.pyplot as plt"
   ]
  },
  {
   "cell_type": "code",
   "execution_count": 2,
   "metadata": {},
   "outputs": [],
   "source": [
    "def plot_f_b(omegas, s_f, s_b, figsize=(4,6)):\n",
    "    \"\"\"Plot pre-computed forward and backward spectra\n",
    "    \"\"\"\n",
    "    fig, ax = plt.subplots(1)\n",
    "    ax.plot(omegas, np.abs(s0_f)**2)\n",
    "    ax.plot(omegas, np.abs(s0_b)**2)\n",
    "    ax.set_xlabel(\"$(\\omega-\\omega_1)/\\Omega$\")\n",
    "    ax.set_ylabel(\"Transmission\")\n",
    "    ax.legend((\"Forward\", \"Backward\"))\n",
    "    \n",
    "    plt.show()"
   ]
  },
  {
   "cell_type": "code",
   "execution_count": 3,
   "metadata": {},
   "outputs": [],
   "source": [
    "def sounas_transmission(omegas, gc, gd, gr, J, matched=True):\n",
    "    \"\"\"Implement the CMT T12 transmission from Sounas and Alu,\n",
    "    ACS Photonics, 1 (2014).\n",
    "    This assumes: \n",
    "     - CW and CCW ring modes at omega_l, coupled to two waveguides\n",
    "     - dynamic modulation with frequency Omega\n",
    "     - modes of different orders can be neglected, i.e. the modulation is \n",
    "     *not* matched with the FSR of the ring\n",
    "     - the modulation only couples CW and CCW at omega_1, i.e. it's \n",
    "     perfectly momentum-matched for only that transition\n",
    "     - RWA is *not* assumed! \n",
    "     \n",
    "    All the variables below are in units of the modulation frequency Omega.\n",
    "    Loss rates are such that the imaginary frequency is omega_l - 1j*gl \n",
    "    (as opposed to -1j*gl/2 in some conventions). As opposed to the Sounas\n",
    "    paper, we use coupling constants rather than life-times.\n",
    "    \n",
    "    Parameters\n",
    "    ----------\n",
    "    omegas: NumPy array\n",
    "        an array of monochromatic input frequencies over which the \n",
    "        transmission will be computed, centered at omega_l\n",
    "    gc: float\n",
    "        coupling to the channel waveguide\n",
    "    gd: float\n",
    "        coupling to the drop waveguide\n",
    "    gd: float\n",
    "        other losses (e.g. radiating to environment)\n",
    "    J: complex\n",
    "        effective coupling constant between the modes due to the modulation\n",
    "        equal to omega_l*kappa/2 in Sounas paper\n",
    "    matched: bool\n",
    "        if True, the side-bands at omega_1 and omega_2 - Omega are \n",
    "        coupled (resonantly in the Floquet picture). If False, the modes at \n",
    "        omega_1 - Omega and omega_2 + Omega are coupled (non-resonantly).\n",
    "        Note that matched=False would correspond to J=0 in RWA, but here\n",
    "        a second-order effect is also included.\n",
    "        \n",
    "    Returns\n",
    "    -------\n",
    "    s0: NumPy array\n",
    "        zero-side-band transmission amplitude\n",
    "    \"\"\"\n",
    "    \n",
    "    # Combined loss rate\n",
    "    gt = gc + gd + gr + 1e-20\n",
    "    \n",
    "    if matched == True:\n",
    "        t1 = omegas + 1j*gt - 2j*gc\n",
    "        t2 = omegas - 1 + 1j*gt\n",
    "        t3 = omegas + 1j*gt\n",
    "        t4 = omegas - 1 + 1j*gt\n",
    "        \n",
    "        s0 = (t1*t2 - np.abs(J)**2)/(t3*t4 - np.abs(J)**2)\n",
    "    \n",
    "    elif matched == False:\n",
    "        t1 = omegas + 1j*gt - 2j*gc\n",
    "        t2 = omegas + 1 + 1j*gt\n",
    "        t3 = omegas + 1j*gt\n",
    "        t4 = omegas + 1 + 1j*gt\n",
    "        \n",
    "        s0 = (t1*t2 - np.abs(J)**2)/(t3*t4 - np.abs(J)**2)\n",
    "    \n",
    "    return s0"
   ]
  },
  {
   "cell_type": "code",
   "execution_count": 13,
   "metadata": {},
   "outputs": [
    {
     "data": {
      "image/png": "[encoded data removed]",
      "text/plain": [
       "<Figure size 432x288 with 1 Axes>"
      ]
     },
     "metadata": {
      "needs_background": "light"
     },
     "output_type": "display_data"
    }
   ],
   "source": [
    "omegas = np.linspace(-2, 2, 301)\n",
    "\n",
    "gc = 0.05\n",
    "J = 0.4\n",
    "gr = 0\n",
    "# Drop port loss rate critical coupling condition when gr = 0\n",
    "delta_om = np.sqrt(1 + (2*np.abs(J))**2) - 1\n",
    "gd = gc/(1 + delta_om) \n",
    "\n",
    "s0_f = sounas_transmission(omegas, gc, gd, gr, J, matched=False)\n",
    "s0_b = sounas_transmission(omegas, gc, gd, gr, J, matched=True)\n",
    "plot_f_b(omegas, s0_f, s0_b)"
   ]
  }
 ],
 "metadata": {
  "kernelspec": {
   "display_name": "Python 3",
   "language": "python",
   "name": "python3"
  },
  "language_info": {
   "codemirror_mode": {
    "name": "ipython",
    "version": 3
   },
   "file_extension": ".py",
   "mimetype": "text/x-python",
   "name": "python",
   "nbconvert_exporter": "python",
   "pygments_lexer": "ipython3",
   "version": "3.7.3"
  }
 },
 "nbformat": 4,
 "nbformat_minor": 2
}
